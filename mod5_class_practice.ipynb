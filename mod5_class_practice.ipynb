{
 "cells": [
  {
   "cell_type": "code",
   "execution_count": 2,
   "id": "333d9c4f",
   "metadata": {},
   "outputs": [
    {
     "data": {
      "text/plain": [
       "54"
      ]
     },
     "execution_count": 2,
     "metadata": {},
     "output_type": "execute_result"
    }
   ],
   "source": [
    "9 * 6"
   ]
  },
  {
   "cell_type": "code",
   "execution_count": 3,
   "id": "5c992b3e",
   "metadata": {},
   "outputs": [],
   "source": [
    "#importing a single math function \n",
    "from math import exp \n",
    "import matplotlib.pyplot as plt"
   ]
  },
  {
   "cell_type": "code",
   "execution_count": 4,
   "id": "5fe07e54",
   "metadata": {},
   "outputs": [
    {
     "data": {
      "text/plain": [
       "1.0"
      ]
     },
     "execution_count": 4,
     "metadata": {},
     "output_type": "execute_result"
    }
   ],
   "source": [
    "exp(0)"
   ]
  },
  {
   "cell_type": "code",
   "execution_count": 5,
   "id": "bc808012",
   "metadata": {},
   "outputs": [
    {
     "data": {
      "text/plain": [
       "2.718281828459045"
      ]
     },
     "execution_count": 5,
     "metadata": {},
     "output_type": "execute_result"
    }
   ],
   "source": [
    "exp(1)\n"
   ]
  },
  {
   "cell_type": "code",
   "execution_count": 6,
   "id": "1608919c",
   "metadata": {},
   "outputs": [
    {
     "data": {
      "text/plain": [
       "range(0, 101)"
      ]
     },
     "execution_count": 6,
     "metadata": {},
     "output_type": "execute_result"
    }
   ],
   "source": [
    "#plotting make up data\n",
    "range(0, 100 + 1)"
   ]
  },
  {
   "cell_type": "code",
   "execution_count": 7,
   "id": "f8d52f9f",
   "metadata": {},
   "outputs": [],
   "source": [
    "x = list(range(0, 100 + 1))\n"
   ]
  },
  {
   "cell_type": "code",
   "execution_count": 8,
   "id": "53190820",
   "metadata": {},
   "outputs": [],
   "source": [
    "y = []\n",
    "for x_elem in x:\n",
    "    y_elem = exp(x_elem)\n",
    "    y.append(y_elem)"
   ]
  },
  {
   "cell_type": "code",
   "execution_count": 9,
   "id": "ce1b5aa9",
   "metadata": {},
   "outputs": [
    {
     "data": {
      "text/plain": [
       "[1.0,\n",
       " 2.718281828459045,\n",
       " 7.38905609893065,\n",
       " 20.085536923187668,\n",
       " 54.598150033144236,\n",
       " 148.4131591025766,\n",
       " 403.4287934927351,\n",
       " 1096.6331584284585,\n",
       " 2980.9579870417283,\n",
       " 8103.083927575384,\n",
       " 22026.465794806718,\n",
       " 59874.14171519782,\n",
       " 162754.79141900392,\n",
       " 442413.3920089205,\n",
       " 1202604.2841647768,\n",
       " 3269017.3724721107,\n",
       " 8886110.520507872,\n",
       " 24154952.7535753,\n",
       " 65659969.13733051,\n",
       " 178482300.96318725,\n",
       " 485165195.4097903,\n",
       " 1318815734.4832146,\n",
       " 3584912846.131592,\n",
       " 9744803446.248903,\n",
       " 26489122129.84347,\n",
       " 72004899337.38588,\n",
       " 195729609428.83878,\n",
       " 532048240601.7986,\n",
       " 1446257064291.475,\n",
       " 3931334297144.042,\n",
       " 10686474581524.463,\n",
       " 29048849665247.426,\n",
       " 78962960182680.69,\n",
       " 214643579785916.06,\n",
       " 583461742527454.9,\n",
       " 1586013452313430.8,\n",
       " 4311231547115195.0,\n",
       " 1.1719142372802612e+16,\n",
       " 3.1855931757113756e+16,\n",
       " 8.659340042399374e+16,\n",
       " 2.3538526683702e+17,\n",
       " 6.398434935300549e+17,\n",
       " 1.739274941520501e+18,\n",
       " 4.727839468229346e+18,\n",
       " 1.2851600114359308e+19,\n",
       " 3.4934271057485095e+19,\n",
       " 9.496119420602448e+19,\n",
       " 2.5813128861900675e+20,\n",
       " 7.016735912097631e+20,\n",
       " 1.9073465724950998e+21,\n",
       " 5.184705528587072e+21,\n",
       " 1.4093490824269389e+22,\n",
       " 3.831008000716577e+22,\n",
       " 1.0413759433029089e+23,\n",
       " 2.830753303274694e+23,\n",
       " 7.694785265142018e+23,\n",
       " 2.091659496012996e+24,\n",
       " 5.685719999335932e+24,\n",
       " 1.545538935590104e+25,\n",
       " 4.2012104037905144e+25,\n",
       " 1.1420073898156842e+26,\n",
       " 3.10429793570192e+26,\n",
       " 8.438356668741454e+26,\n",
       " 2.29378315946961e+27,\n",
       " 6.235149080811617e+27,\n",
       " 1.6948892444103338e+28,\n",
       " 4.607186634331292e+28,\n",
       " 1.2523631708422137e+29,\n",
       " 3.404276049931741e+29,\n",
       " 9.253781725587787e+29,\n",
       " 2.515438670919167e+30,\n",
       " 6.837671229762744e+30,\n",
       " 1.8586717452841279e+31,\n",
       " 5.052393630276104e+31,\n",
       " 1.3733829795401761e+32,\n",
       " 3.7332419967990015e+32,\n",
       " 1.0148003881138887e+33,\n",
       " 2.7585134545231703e+33,\n",
       " 7.498416996990121e+33,\n",
       " 2.0382810665126688e+34,\n",
       " 5.54062238439351e+34,\n",
       " 1.5060973145850306e+35,\n",
       " 4.0939969621274545e+35,\n",
       " 1.1128637547917594e+36,\n",
       " 3.0250773222011426e+36,\n",
       " 8.223012714622913e+36,\n",
       " 2.235246603734715e+37,\n",
       " 6.076030225056872e+37,\n",
       " 1.6516362549940018e+38,\n",
       " 4.4896128191743455e+38,\n",
       " 1.2204032943178408e+39,\n",
       " 3.317400098335743e+39,\n",
       " 9.017628405034299e+39,\n",
       " 2.451245542920086e+40,\n",
       " 6.663176216410896e+40,\n",
       " 1.8112390828890233e+41,\n",
       " 4.923458286012058e+41,\n",
       " 1.3383347192042695e+42,\n",
       " 3.637970947608805e+42,\n",
       " 9.889030319346946e+42,\n",
       " 2.6881171418161356e+43]"
      ]
     },
     "execution_count": 9,
     "metadata": {},
     "output_type": "execute_result"
    }
   ],
   "source": [
    "y"
   ]
  },
  {
   "cell_type": "code",
   "execution_count": 10,
   "id": "9c1ad011",
   "metadata": {},
   "outputs": [
    {
     "data": {
      "text/plain": [
       "[0, 1, 2, 3, 4]"
      ]
     },
     "execution_count": 10,
     "metadata": {},
     "output_type": "execute_result"
    }
   ],
   "source": [
    "x[:5]"
   ]
  },
  {
   "cell_type": "code",
   "execution_count": 11,
   "id": "bc338c90",
   "metadata": {},
   "outputs": [
    {
     "data": {
      "text/plain": [
       "[1.0,\n",
       " 2.718281828459045,\n",
       " 7.38905609893065,\n",
       " 20.085536923187668,\n",
       " 54.598150033144236]"
      ]
     },
     "execution_count": 11,
     "metadata": {},
     "output_type": "execute_result"
    }
   ],
   "source": [
    "y[:5]"
   ]
  },
  {
   "cell_type": "code",
   "execution_count": 12,
   "id": "cd1e4576",
   "metadata": {},
   "outputs": [
    {
     "data": {
      "text/plain": [
       "<function matplotlib.pyplot.show(close=None, block=None)>"
      ]
     },
     "execution_count": 12,
     "metadata": {},
     "output_type": "execute_result"
    },
    {
     "data": {
      "image/png": "[encoded data removed]",
      "text/plain": [
       "<Figure size 432x288 with 1 Axes>"
      ]
     },
     "metadata": {
      "needs_background": "light"
     },
     "output_type": "display_data"
    }
   ],
   "source": [
    "plt.plot(x, y)\n",
    "plt.xlabel(\"x\")\n",
    "plt.ylabel(\"y\")\n",
    "plt.title(\"exponetial curve\")\n",
    "plt.show"
   ]
  },
  {
   "cell_type": "code",
   "execution_count": null,
   "id": "de5b6760",
   "metadata": {},
   "outputs": [],
   "source": []
  },
  {
   "cell_type": "code",
   "execution_count": null,
   "id": "09a4168a",
   "metadata": {},
   "outputs": [],
   "source": []
  }
 ],
 "metadata": {
  "kernelspec": {
   "display_name": "PythonData",
   "language": "python",
   "name": "pythondata"
  },
  "language_info": {
   "codemirror_mode": {
    "name": "ipython",
    "version": 3
   },
   "file_extension": ".py",
   "mimetype": "text/x-python",
   "name": "python",
   "nbconvert_exporter": "python",
   "pygments_lexer": "ipython3",
   "version": "3.7.10"
  }
 },
 "nbformat": 4,
 "nbformat_minor": 5
}
